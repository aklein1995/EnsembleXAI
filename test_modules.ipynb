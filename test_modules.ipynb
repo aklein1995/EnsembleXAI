{
 "cells": [
  {
   "cell_type": "markdown",
   "metadata": {},
   "source": [
    "# MODULES"
   ]
  },
  {
   "cell_type": "markdown",
   "metadata": {},
   "source": [
    "## Ensemble"
   ]
  },
  {
   "cell_type": "code",
   "execution_count": 1,
   "metadata": {},
   "outputs": [
    {
     "name": "stdout",
     "output_type": "stream",
     "text": [
      "***Inputs \n",
      "dim:4 shape:torch.Size([2, 3, 32, 32])\n",
      "***IntegratedGradients method \n",
      "dim:4 shape:torch.Size([2, 3, 32, 32])\n",
      "***Ensemble XAI \n",
      "dim:5 shape:torch.Size([2, 3, 3, 32, 32])\n",
      "***Agg normXAI XAI \n",
      "dim:4 shape:torch.Size([2, 3, 32, 32])\n"
     ]
    }
   ],
   "source": [
    "import warnings\n",
    "warnings.filterwarnings(\"ignore\") # Ignore all warnings\n",
    "import torch\n",
    "from EnsembleXAI.Ensemble import normEnsembleXAI\n",
    "from captum.attr import IntegratedGradients, GradientShap, Saliency, Lime\n",
    "from torchvision.models import resnet50, ResNet50_Weights\n",
    "\n",
    "# Define model\n",
    "model = resnet50(weights=ResNet50_Weights.DEFAULT)\n",
    "model.eval()\n",
    "\n",
    "# define input\n",
    "input1 = torch.randn(1, 3, 32, 32)\n",
    "input2 = torch.randn(1, 3, 32, 32)\n",
    "inputs = torch.cat((input1,input2),dim=0)\n",
    "\n",
    "ig = IntegratedGradients(model).attribute(inputs, target=3)\n",
    "# gs = GradientShap(model).attribute(inputs, target=3)\n",
    "lime = Lime(model).attribute(inputs, target=3)\n",
    "sal = Saliency(model).attribute(inputs, target=3)\n",
    "\n",
    "explanations = torch.stack([ig, lime, sal], dim=1) # on first dim num_images, then num_xai\n",
    "agg = normEnsembleXAI(explanations, aggregating_func='avg')\n",
    "\n",
    "print('***Inputs \\ndim:{} shape:{}'.format(inputs.dim(),inputs.shape))\n",
    "print('***IntegratedGradients method \\ndim:{} shape:{}'.format(ig.dim(),ig.shape))\n",
    "print('***Ensemble XAI \\ndim:{} shape:{}'.format(explanations.dim(),explanations.shape))\n",
    "print('***Agg normXAI XAI \\ndim:{} shape:{}'.format(agg.dim(),agg.shape))"
   ]
  },
  {
   "cell_type": "markdown",
   "metadata": {},
   "source": [
    "## Metrics"
   ]
  },
  {
   "cell_type": "code",
   "execution_count": 2,
   "metadata": {},
   "outputs": [
    {
     "name": "stdout",
     "output_type": "stream",
     "text": [
      "Consistency of image 0: 0.5401846766471863\n",
      "Consistency of image 1: 0.5810154676437378\n"
     ]
    }
   ],
   "source": [
    "from EnsembleXAI.Metrics import consistency\n",
    "\n",
    "# get two explanations\n",
    "explanation1 = ig\n",
    "explanation2 = sal # 2,3,32,32\n",
    "explanations = torch.stack([explanation1, explanation2], dim=1) # expected shape: [num_images, num_explanations, channeld,h,w]\n",
    "\n",
    "for _i,one_image in enumerate(explanations):\n",
    "    # Calculate consistency for the two explanations\n",
    "    con = consistency(one_image)\n",
    "    print(f\"Consistency of image {_i}: {con}\")"
   ]
  },
  {
   "cell_type": "markdown",
   "metadata": {},
   "source": [
    "## Normalization"
   ]
  },
  {
   "cell_type": "code",
   "execution_count": 3,
   "metadata": {},
   "outputs": [],
   "source": [
    "from EnsembleXAI.Normalization import mean_var_normalize,median_iqr_normalize,second_moment_normalize\n",
    "\n",
    "# get two explanations\n",
    "explanation1 = ig\n",
    "explanation2 = sal\n",
    "# stack them\n",
    "explanations = torch.stack([explanation1, explanation2], dim=1) # expected shape: [num_images, num_explanations, channeld,h,w]\n",
    "# explanations = torch.randn(1,1, 3, 64, 64)\n",
    "\n",
    "# Scale an explanation using Robust Standardization\n",
    "normal_std = mean_var_normalize(explanations)\n",
    "# Scale an explanation using Robust Standardization\n",
    "robust_std = median_iqr_normalize(explanations)\n",
    "# Scale an explanation using Second Moment Scaling\n",
    "scaled_explanation = second_moment_normalize(explanations)"
   ]
  },
  {
   "cell_type": "code",
   "execution_count": null,
   "metadata": {},
   "outputs": [],
   "source": []
  }
 ],
 "metadata": {
  "kernelspec": {
   "display_name": ".venv",
   "language": "python",
   "name": "python3"
  },
  "language_info": {
   "codemirror_mode": {
    "name": "ipython",
    "version": 3
   },
   "file_extension": ".py",
   "mimetype": "text/x-python",
   "name": "python",
   "nbconvert_exporter": "python",
   "pygments_lexer": "ipython3",
   "version": "3.10.12"
  }
 },
 "nbformat": 4,
 "nbformat_minor": 2
}
